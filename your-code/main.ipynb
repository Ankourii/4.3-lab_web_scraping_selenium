{
 "cells": [
  {
   "cell_type": "markdown",
   "metadata": {},
   "source": [
    "# Web Scraping Lab\n",
    "\n",
    "You will find in this notebook some scrapy exercises to practise your scraping skills.\n",
    "\n",
    "**Tips:**\n",
    "\n",
    "- Check the response status code for each request to ensure you have obtained the intended contennt.\n",
    "- Print the response text in each request to understand the kind of info you are getting and its format.\n",
    "- Check for patterns in the response text to extract the data/info requested in each question.\n",
    "- Visit each url and take a look at its source through Chrome DevTools. You'll need to identify the html tags, special class names etc. used for the html content you are expected to extract."
   ]
  },
  {
   "cell_type": "markdown",
   "metadata": {},
   "source": [
    "- [Selenium Doc](https://www.selenium.dev/documentation/)\n",
    "- [Requests library](http://docs.python-requests.org/en/master/#the-user-guide) documentation \n",
    "- [Urllib](https://docs.python.org/3/library/urllib.html#module-urllib)\n",
    "- [re lib](https://docs.python.org/3/library/re.html)\n",
    "- [lxml lib](https://lxml.de/)\n",
    "- [Scrapy](https://scrapy.org/)\n",
    "- [List of HTTP status codes](https://en.wikipedia.org/wiki/List_of_HTTP_status_codes)\n",
    "- [HTML basics](http://www.simplehtmlguide.com/cheatsheet.php)\n",
    "- [CSS basics](https://www.cssbasics.com/#page_start)"
   ]
  },
  {
   "cell_type": "markdown",
   "metadata": {},
   "source": [
    "#### Below are the libraries and modules you may need. `Selenium` and `pandas` are imported for you."
   ]
  },
  {
   "cell_type": "code",
   "execution_count": 32,
   "metadata": {},
   "outputs": [],
   "source": [
    "import pandas as pd\n",
    "from selenium.webdriver.chrome.options import Options\n",
    "from webdriver_manager.chrome import ChromeDriverManager\n",
    "from selenium import webdriver\n",
    "from selenium.webdriver.common.by import By\n",
    "import time"
   ]
  },
  {
   "cell_type": "markdown",
   "metadata": {},
   "source": [
    "#### Enable the options you may need. In the next cell you have an example of them but you can choose to use them or not."
   ]
  },
  {
   "cell_type": "code",
   "execution_count": 2,
   "metadata": {},
   "outputs": [],
   "source": [
    "#driver configuration\n",
    "opciones=Options()\n",
    "\n",
    "opciones.add_experimental_option('excludeSwitches', ['enable-automation'])\n",
    "opciones.add_experimental_option('useAutomationExtension', False)\n",
    "opciones.headless=False    # si True, no aperece la ventana (headless=no visible)\n",
    "opciones.add_argument('--start-maximized')         # comienza maximizado\n",
    "#opciones.add_argument('user-data-dir=selenium')    # mantiene las cookies\n",
    "#opciones.add_extension('driver_folder/adblock.crx')       # adblocker\n",
    "opciones.add_argument('--incognito')"
   ]
  },
  {
   "cell_type": "code",
   "execution_count": 20,
   "metadata": {},
   "outputs": [],
   "source": [
    "#driver = \".Ironhack/driver/chromedriver.exe\" #remember substitute this for your driver path\n",
    "#driver = webdriver.Chrome(driver,options = opciones)\n",
    "PATH = 'Ironhack/driver/chromedriver.exe'\n",
    "driver = webdriver.Chrome()"
   ]
  },
  {
   "cell_type": "markdown",
   "metadata": {},
   "source": [
    "#### Download, parse, and print the content from the Trending Developers page from GitHub:"
   ]
  },
  {
   "cell_type": "code",
   "execution_count": 8,
   "metadata": {},
   "outputs": [],
   "source": [
    "# This is the url you will scrape in this exercise\n",
    "url = 'https://github.com/trending/developers'"
   ]
  },
  {
   "cell_type": "code",
   "execution_count": 12,
   "metadata": {},
   "outputs": [],
   "source": [
    "driver = webdriver.Chrome()\n",
    "\n",
    "driver.get(url)\n"
   ]
  },
  {
   "cell_type": "code",
   "execution_count": 15,
   "metadata": {},
   "outputs": [
    {
     "data": {
      "text/plain": [
       "[('Ismail Pelaseyed', 'homanp'),\n",
       " ('Alex Stokes', 'ralexstokes'),\n",
       " ('Don Jayamanne', 'DonJayamanne'),\n",
       " ('Stefan Prodan', 'stefanprodan'),\n",
       " ('Travis Cline', 'tmc'),\n",
       " ('Oliver', 'SchrodingersGat'),\n",
       " ('dgtlmoon', 'guillaumekln'),\n",
       " ('Guillaume Klein', 'Chalarangelo'),\n",
       " ('lllyasviel', 'jskeet'),\n",
       " ('Angelos Chalaris', 'chrisbanes'),\n",
       " ('Jon Skeet', 'cscheid'),\n",
       " ('Chris Banes', 'anderseknert'),\n",
       " ('Carlos Scheidegger', 'emilk'),\n",
       " ('Anders Eknert', 'aaime'),\n",
       " ('Emil Ernerfeldt', 'mattt'),\n",
       " ('Andrea Aime', 'wsxiaoys'),\n",
       " ('Mattt', 'shahednasser'),\n",
       " ('Meng Zhang', 'KieronQuinn'),\n",
       " ('Shahed Nasser', 'afc163'),\n",
       " ('dkhamsing', 'adonovan'),\n",
       " ('Kieron Quinn', 'leecalcote'),\n",
       " ('afc163', 'vwxyzjn')]"
      ]
     },
     "execution_count": 15,
     "metadata": {},
     "output_type": "execute_result"
    }
   ],
   "source": [
    "#your code\n",
    "nombres = [e.text for e in driver.find_elements(By.CSS_SELECTOR, 'h1.h3.lh-condensed')]\n",
    "nicks = [e.text for e in driver.find_elements(By.CSS_SELECTOR, 'p.f4.text-normal.mb-1')]\n",
    "list(zip(nombres, nicks))\n"
   ]
  },
  {
   "cell_type": "markdown",
   "metadata": {},
   "source": [
    "#### Display the names of the trending developers retrieved in the previous step.\n",
    "\n",
    "Your output should be a Python list of developer names. Each name should not contain any html tag.\n",
    "\n",
    "**Instructions:**\n",
    "\n",
    "1. Find out the html tag and class names used for the developer names.\n",
    "\n",
    "1. Use string manipulation techniques to replace whitespaces and linebreaks (i.e. `\\n`) in the *text* of each html element. Use a list to store the clean names.\n",
    "\n",
    "1. Print the list of names.\n",
    "\n",
    "Your output should look like below:\n",
    "\n",
    "```\n",
    "['trimstray (@trimstray)',\n",
    " 'joewalnes (JoeWalnes)',\n",
    " 'charlax (Charles-AxelDein)',\n",
    " 'ForrestKnight (ForrestKnight)',\n",
    " 'revery-ui (revery-ui)',\n",
    " 'alibaba (Alibaba)',\n",
    " 'Microsoft (Microsoft)',\n",
    " 'github (GitHub)',\n",
    " 'facebook (Facebook)',\n",
    " 'boazsegev (Bo)',\n",
    " 'google (Google)',\n",
    " 'cloudfetch',\n",
    " 'sindresorhus (SindreSorhus)',\n",
    " 'tensorflow',\n",
    " 'apache (TheApacheSoftwareFoundation)',\n",
    " 'DevonCrawford (DevonCrawford)',\n",
    " 'ARMmbed (ArmMbed)',\n",
    " 'vuejs (vuejs)',\n",
    " 'fastai (fast.ai)',\n",
    " 'QiShaoXuan (Qi)',\n",
    " 'joelparkerhenderson (JoelParkerHenderson)',\n",
    " 'torvalds (LinusTorvalds)',\n",
    " 'CyC2018',\n",
    " 'komeiji-satori (神楽坂覚々)',\n",
    " 'script-8']\n",
    " ```"
   ]
  },
  {
   "cell_type": "markdown",
   "metadata": {},
   "source": [
    "#### Display the trending Python repositories in GitHub\n",
    "\n",
    "The steps to solve this problem is similar to the previous one except that you need to find out the repository names instead of developer names."
   ]
  },
  {
   "cell_type": "code",
   "execution_count": 16,
   "metadata": {},
   "outputs": [],
   "source": [
    "# This is the url you will scrape in this exercise\n",
    "url = 'https://github.com/trending/python?since=daily'"
   ]
  },
  {
   "cell_type": "code",
   "execution_count": 17,
   "metadata": {},
   "outputs": [],
   "source": [
    "#your code\n",
    "driver.get(url)\n"
   ]
  },
  {
   "cell_type": "code",
   "execution_count": 22,
   "metadata": {},
   "outputs": [
    {
     "data": {
      "text/plain": [
       "'swisskyrepo / PayloadsAllTheThings'"
      ]
     },
     "execution_count": 22,
     "metadata": {},
     "output_type": "execute_result"
    }
   ],
   "source": [
    "driver.find_elements(By.CLASS_NAME, 'h3')[0].text\n"
   ]
  },
  {
   "cell_type": "code",
   "execution_count": 25,
   "metadata": {},
   "outputs": [],
   "source": [
    "trending_repos=[e.text for e in driver.find_elements(By.CLASS_NAME, 'h3')]"
   ]
  },
  {
   "cell_type": "code",
   "execution_count": 26,
   "metadata": {},
   "outputs": [
    {
     "data": {
      "text/plain": [
       "['swisskyrepo / PayloadsAllTheThings',\n",
       " 'THUDM / ChatGLM3',\n",
       " 'PaddlePaddle / PaddleOCR',\n",
       " 'langchain-ai / langchain',\n",
       " 'dataelement / bisheng',\n",
       " 'Azure / MS-AMP',\n",
       " 'xxlong0 / Wonder3D',\n",
       " 'yunjey / pytorch-tutorial',\n",
       " 'facebookresearch / llama',\n",
       " 'localstack / localstack',\n",
       " 'OpenBMB / ChatDev',\n",
       " 'ray-project / ray',\n",
       " 'CycodeLabs / raven',\n",
       " 'ageitgey / face_recognition',\n",
       " 'iam-veeramalla / aws-devops-zero-to-hero',\n",
       " 'openai / whisper',\n",
       " 'sqlfluff / sqlfluff',\n",
       " 'imartinez / privateGPT',\n",
       " 'reflex-dev / reflex',\n",
       " 'donnemartin / system-design-primer',\n",
       " 'lm-sys / FastChat',\n",
       " 'togethercomputer / RedPajama-Data',\n",
       " 'SkyworkAI / Skywork',\n",
       " 'microsoft / qlib',\n",
       " 'pathwaycom / llm-app']"
      ]
     },
     "execution_count": 26,
     "metadata": {},
     "output_type": "execute_result"
    }
   ],
   "source": [
    "trending_repos"
   ]
  },
  {
   "cell_type": "markdown",
   "metadata": {},
   "source": [
    "#### Display all the image links from Walt Disney wikipedia page"
   ]
  },
  {
   "cell_type": "code",
   "execution_count": 28,
   "metadata": {},
   "outputs": [],
   "source": [
    "# This is the url you will scrape in this exercise\n",
    "url = 'https://en.wikipedia.org/wiki/Walt_Disney'"
   ]
  },
  {
   "cell_type": "code",
   "execution_count": 29,
   "metadata": {},
   "outputs": [],
   "source": [
    "#your code\n",
    "driver.get(url)\n"
   ]
  },
  {
   "cell_type": "code",
   "execution_count": 42,
   "metadata": {},
   "outputs": [
    {
     "data": {
      "text/plain": [
       "'https://en.wikipedia.org/static/images/icons/wikipedia.png'"
      ]
     },
     "execution_count": 42,
     "metadata": {},
     "output_type": "execute_result"
    }
   ],
   "source": [
    "driver.find_elements(By.TAG_NAME, 'img')[0].get_attribute('src')"
   ]
  },
  {
   "cell_type": "code",
   "execution_count": 44,
   "metadata": {},
   "outputs": [
    {
     "data": {
      "text/plain": [
       "['https://en.wikipedia.org/static/images/icons/wikipedia.png',\n",
       " 'https://en.wikipedia.org/static/images/mobile/copyright/wikipedia-wordmark-en.svg',\n",
       " 'https://en.wikipedia.org/static/images/mobile/copyright/wikipedia-tagline-en.svg',\n",
       " 'https://upload.wikimedia.org/wikipedia/en/thumb/e/e7/Cscr-featured.svg/20px-Cscr-featured.svg.png',\n",
       " 'https://upload.wikimedia.org/wikipedia/en/thumb/8/8c/Extended-protection-shackle.svg/20px-Extended-protection-shackle.svg.png',\n",
       " 'https://upload.wikimedia.org/wikipedia/commons/thumb/d/df/Walt_Disney_1946.JPG/220px-Walt_Disney_1946.JPG',\n",
       " 'https://upload.wikimedia.org/wikipedia/commons/thumb/8/87/Walt_Disney_1942_signature.svg/150px-Walt_Disney_1942_signature.svg.png',\n",
       " 'https://upload.wikimedia.org/wikipedia/commons/thumb/3/3a/Walt_Disney_Birthplace_Exterior_Hermosa_Chicago_Illinois.jpg/220px-Walt_Disney_Birthplace_Exterior_Hermosa_Chicago_Illinois.jpg',\n",
       " 'https://upload.wikimedia.org/wikipedia/commons/thumb/c/c4/Walt_Disney_envelope_ca._1921.jpg/220px-Walt_Disney_envelope_ca._1921.jpg',\n",
       " 'https://upload.wikimedia.org/wikipedia/en/thumb/4/4e/Steamboat-willie.jpg/220px-Steamboat-willie.jpg',\n",
       " 'https://upload.wikimedia.org/wikipedia/commons/thumb/c/cd/Walt_Disney_Snow_white_1937_trailer_screenshot_%2813%29.jpg/220px-Walt_Disney_Snow_white_1937_trailer_screenshot_%2813%29.jpg',\n",
       " 'https://upload.wikimedia.org/wikipedia/commons/thumb/1/15/Disney_drawing_goofy.jpg/170px-Disney_drawing_goofy.jpg',\n",
       " 'https://upload.wikimedia.org/wikipedia/commons/thumb/8/8c/WaltDisneyplansDisneylandDec1954.jpg/220px-WaltDisneyplansDisneylandDec1954.jpg',\n",
       " 'https://upload.wikimedia.org/wikipedia/commons/thumb/f/ff/Walt_disney_portrait_right.jpg/170px-Walt_disney_portrait_right.jpg',\n",
       " 'https://upload.wikimedia.org/wikipedia/commons/thumb/1/1a/Walt_Disney_Grave.JPG/170px-Walt_Disney_Grave.JPG',\n",
       " 'https://upload.wikimedia.org/wikipedia/commons/thumb/1/1b/Nuvola_apps_kaboodle.svg/16px-Nuvola_apps_kaboodle.svg.png',\n",
       " 'https://upload.wikimedia.org/wikipedia/commons/thumb/1/13/DisneySchiphol1951.jpg/220px-DisneySchiphol1951.jpg',\n",
       " 'https://upload.wikimedia.org/wikipedia/commons/thumb/6/6c/Disney1968.jpg/170px-Disney1968.jpg',\n",
       " 'https://upload.wikimedia.org/wikipedia/commons/thumb/b/b0/Disney_Oscar_1953_%28cropped%29.jpg/170px-Disney_Oscar_1953_%28cropped%29.jpg',\n",
       " 'https://upload.wikimedia.org/wikipedia/en/thumb/4/4a/Commons-logo.svg/30px-Commons-logo.svg.png',\n",
       " 'https://upload.wikimedia.org/wikipedia/commons/thumb/4/4c/Wikisource-logo.svg/38px-Wikisource-logo.svg.png',\n",
       " 'https://upload.wikimedia.org/wikipedia/commons/thumb/f/fa/Wikiquote-logo.svg/34px-Wikiquote-logo.svg.png',\n",
       " 'https://upload.wikimedia.org/wikipedia/en/thumb/8/8a/OOjs_UI_icon_edit-ltr-progressive.svg/10px-OOjs_UI_icon_edit-ltr-progressive.svg.png',\n",
       " 'https://upload.wikimedia.org/wikipedia/en/thumb/8/8a/OOjs_UI_icon_edit-ltr-progressive.svg/10px-OOjs_UI_icon_edit-ltr-progressive.svg.png',\n",
       " 'https://upload.wikimedia.org/wikipedia/en/thumb/9/96/Symbol_category_class.svg/16px-Symbol_category_class.svg.png',\n",
       " 'https://upload.wikimedia.org/wikipedia/commons/thumb/e/e3/Disneyland_Resort_logo.svg/135px-Disneyland_Resort_logo.svg.png',\n",
       " 'https://upload.wikimedia.org/wikipedia/commons/thumb/d/da/Animation_disc.svg/20px-Animation_disc.svg.png',\n",
       " 'https://upload.wikimedia.org/wikipedia/en/thumb/6/69/P_vip.svg/19px-P_vip.svg.png',\n",
       " 'https://upload.wikimedia.org/wikipedia/commons/thumb/1/1a/Magic_Kingdom_castle.jpg/15px-Magic_Kingdom_castle.jpg',\n",
       " 'https://upload.wikimedia.org/wikipedia/en/thumb/e/e7/Video-x-generic.svg/19px-Video-x-generic.svg.png',\n",
       " 'https://upload.wikimedia.org/wikipedia/commons/thumb/a/a3/Flag_of_Los_Angeles_County%2C_California.svg/21px-Flag_of_Los_Angeles_County%2C_California.svg.png',\n",
       " 'https://upload.wikimedia.org/wikipedia/commons/thumb/8/8c/Blank_television_set.svg/21px-Blank_television_set.svg.png',\n",
       " 'https://upload.wikimedia.org/wikipedia/en/thumb/a/a4/Flag_of_the_United_States.svg/21px-Flag_of_the_United_States.svg.png',\n",
       " 'https://upload.wikimedia.org/wikipedia/en/thumb/8/8a/OOjs_UI_icon_edit-ltr-progressive.svg/10px-OOjs_UI_icon_edit-ltr-progressive.svg.png',\n",
       " 'https://en.wikipedia.org/static/images/footer/wikimedia-button.png',\n",
       " 'https://en.wikipedia.org/static/images/footer/poweredby_mediawiki_88x31.png']"
      ]
     },
     "execution_count": 44,
     "metadata": {},
     "output_type": "execute_result"
    }
   ],
   "source": [
    "pics=driver.find_elements(By.TAG_NAME, 'img')\n",
    "pics_urls=[e.get_attribute('src') for e in pics]\n",
    "pics_urls"
   ]
  },
  {
   "cell_type": "markdown",
   "metadata": {},
   "source": [
    "#### Retrieve an arbitary Wikipedia page of \"Python\" and create a list of links on that page"
   ]
  },
  {
   "cell_type": "code",
   "execution_count": 45,
   "metadata": {},
   "outputs": [],
   "source": [
    "# This is the url you will scrape in this exercise\n",
    "url ='https://en.wikipedia.org/wiki/Python' "
   ]
  },
  {
   "cell_type": "code",
   "execution_count": 46,
   "metadata": {},
   "outputs": [],
   "source": [
    "#your code\n",
    "driver.get(url)"
   ]
  },
  {
   "cell_type": "code",
   "execution_count": 51,
   "metadata": {},
   "outputs": [
    {
     "data": {
      "text/plain": [
       "'https://en.wikipedia.org/wiki/Python#bodyContent'"
      ]
     },
     "execution_count": 51,
     "metadata": {},
     "output_type": "execute_result"
    }
   ],
   "source": [
    "driver.find_elements(By.TAG_NAME, 'a')[0].get_attribute('href')"
   ]
  },
  {
   "cell_type": "code",
   "execution_count": 52,
   "metadata": {},
   "outputs": [],
   "source": [
    "links=driver.find_elements(By.TAG_NAME, 'a')\n",
    "links_list=[e.get_attribute('href') for e in links]"
   ]
  },
  {
   "cell_type": "code",
   "execution_count": 53,
   "metadata": {},
   "outputs": [
    {
     "data": {
      "text/plain": [
       "['https://en.wikipedia.org/wiki/Python#bodyContent',\n",
       " 'https://en.wikipedia.org/wiki/Main_Page',\n",
       " 'https://en.wikipedia.org/wiki/Wikipedia:Contents',\n",
       " 'https://en.wikipedia.org/wiki/Portal:Current_events',\n",
       " 'https://en.wikipedia.org/wiki/Special:Random',\n",
       " 'https://en.wikipedia.org/wiki/Wikipedia:About',\n",
       " 'https://en.wikipedia.org/wiki/Wikipedia:Contact_us',\n",
       " 'https://donate.wikimedia.org/wiki/Special:FundraiserRedirector?utm_source=donate&utm_medium=sidebar&utm_campaign=C13_en.wikipedia.org&uselang=en',\n",
       " 'https://en.wikipedia.org/wiki/Help:Contents',\n",
       " 'https://en.wikipedia.org/wiki/Help:Introduction',\n",
       " 'https://en.wikipedia.org/wiki/Wikipedia:Community_portal',\n",
       " 'https://en.wikipedia.org/wiki/Special:RecentChanges',\n",
       " 'https://en.wikipedia.org/wiki/Wikipedia:File_upload_wizard',\n",
       " 'https://en.wikipedia.org/wiki/Main_Page',\n",
       " 'https://en.wikipedia.org/wiki/Special:Search',\n",
       " 'https://en.wikipedia.org/w/index.php?title=Special:CreateAccount&returnto=Python',\n",
       " 'https://en.wikipedia.org/w/index.php?title=Special:UserLogin&returnto=Python',\n",
       " 'https://en.wikipedia.org/w/index.php?title=Special:CreateAccount&returnto=Python',\n",
       " 'https://en.wikipedia.org/w/index.php?title=Special:UserLogin&returnto=Python',\n",
       " 'https://en.wikipedia.org/wiki/Help:Introduction',\n",
       " 'https://en.wikipedia.org/wiki/Special:MyContributions',\n",
       " 'https://en.wikipedia.org/wiki/Special:MyTalk',\n",
       " 'https://en.wikipedia.org/wiki/Python#',\n",
       " 'https://en.wikipedia.org/wiki/Python#Snakes',\n",
       " 'https://en.wikipedia.org/wiki/Python#Computing',\n",
       " 'https://en.wikipedia.org/wiki/Python#People',\n",
       " 'https://en.wikipedia.org/wiki/Python#Roller_coasters',\n",
       " 'https://en.wikipedia.org/wiki/Python#Vehicles',\n",
       " 'https://en.wikipedia.org/wiki/Python#Weaponry',\n",
       " 'https://en.wikipedia.org/wiki/Python#Other_uses',\n",
       " 'https://en.wikipedia.org/wiki/Python#See_also',\n",
       " 'https://af.wikipedia.org/wiki/Python',\n",
       " 'https://als.wikipedia.org/wiki/Python',\n",
       " 'https://ar.wikipedia.org/wiki/%D8%A8%D8%A7%D9%8A%D8%AB%D9%88%D9%86_(%D8%AA%D9%88%D8%B6%D9%8A%D8%AD)',\n",
       " 'https://az.wikipedia.org/wiki/Python_(d%C9%99qiql%C9%99%C5%9Fdirm%C9%99)',\n",
       " 'https://bn.wikipedia.org/wiki/%E0%A6%AA%E0%A6%BE%E0%A6%87%E0%A6%A5%E0%A6%A8_(%E0%A6%A6%E0%A7%8D%E0%A6%AC%E0%A7%8D%E0%A6%AF%E0%A6%B0%E0%A7%8D%E0%A6%A5%E0%A6%A4%E0%A6%BE_%E0%A6%A8%E0%A6%BF%E0%A6%B0%E0%A6%B8%E0%A6%A8)',\n",
       " 'https://be.wikipedia.org/wiki/Python',\n",
       " 'https://bg.wikipedia.org/wiki/%D0%9F%D0%B8%D1%82%D0%BE%D0%BD_(%D0%BF%D0%BE%D1%8F%D1%81%D0%BD%D0%B5%D0%BD%D0%B8%D0%B5)',\n",
       " 'https://cs.wikipedia.org/wiki/Python_(rozcestn%C3%ADk)',\n",
       " 'https://da.wikipedia.org/wiki/Python',\n",
       " 'https://de.wikipedia.org/wiki/Python',\n",
       " 'https://eo.wikipedia.org/wiki/Pitono_(apartigilo)',\n",
       " 'https://eu.wikipedia.org/wiki/Python_(argipena)',\n",
       " 'https://fa.wikipedia.org/wiki/%D9%BE%D8%A7%DB%8C%D8%AA%D9%88%D9%86',\n",
       " 'https://fr.wikipedia.org/wiki/Python',\n",
       " 'https://ko.wikipedia.org/wiki/%ED%8C%8C%EC%9D%B4%EC%84%A0',\n",
       " 'https://hr.wikipedia.org/wiki/Python_(razdvojba)',\n",
       " 'https://io.wikipedia.org/wiki/Pitono',\n",
       " 'https://id.wikipedia.org/wiki/Python',\n",
       " 'https://ia.wikipedia.org/wiki/Python_(disambiguation)',\n",
       " 'https://is.wikipedia.org/wiki/Python_(a%C3%B0greining)',\n",
       " 'https://it.wikipedia.org/wiki/Python_(disambigua)',\n",
       " 'https://he.wikipedia.org/wiki/%D7%A4%D7%99%D7%AA%D7%95%D7%9F',\n",
       " 'https://ka.wikipedia.org/wiki/%E1%83%9E%E1%83%98%E1%83%97%E1%83%9D%E1%83%9C%E1%83%98_(%E1%83%9B%E1%83%A0%E1%83%90%E1%83%95%E1%83%90%E1%83%9A%E1%83%9B%E1%83%9C%E1%83%98%E1%83%A8%E1%83%95%E1%83%9C%E1%83%94%E1%83%9A%E1%83%9D%E1%83%95%E1%83%90%E1%83%9C%E1%83%98)',\n",
       " 'https://kg.wikipedia.org/wiki/Mboma_(nyoka)',\n",
       " 'https://la.wikipedia.org/wiki/Python_(discretiva)',\n",
       " 'https://lb.wikipedia.org/wiki/Python',\n",
       " 'https://hu.wikipedia.org/wiki/Python_(egy%C3%A9rtelm%C5%B1s%C3%ADt%C5%91_lap)',\n",
       " 'https://mr.wikipedia.org/wiki/%E0%A4%AA%E0%A4%BE%E0%A4%AF%E0%A4%A5%E0%A5%89%E0%A4%A8_(%E0%A4%86%E0%A4%9C%E0%A5%8D%E0%A4%9E%E0%A4%BE%E0%A4%B5%E0%A4%B2%E0%A5%80_%E0%A4%AD%E0%A4%BE%E0%A4%B7%E0%A4%BE)',\n",
       " 'https://nl.wikipedia.org/wiki/Python',\n",
       " 'https://ja.wikipedia.org/wiki/%E3%83%91%E3%82%A4%E3%82%BD%E3%83%B3',\n",
       " 'https://no.wikipedia.org/wiki/Pyton',\n",
       " 'https://pl.wikipedia.org/wiki/Pyton',\n",
       " 'https://pt.wikipedia.org/wiki/Python_(desambigua%C3%A7%C3%A3o)',\n",
       " 'https://ru.wikipedia.org/wiki/Python_(%D0%B7%D0%BD%D0%B0%D1%87%D0%B5%D0%BD%D0%B8%D1%8F)',\n",
       " 'https://sk.wikipedia.org/wiki/Python',\n",
       " 'https://sr.wikipedia.org/wiki/%D0%9F%D0%B8%D1%82%D0%BE%D0%BD_(%D0%B2%D0%B8%D1%88%D0%B5%D0%B7%D0%BD%D0%B0%D1%87%D0%BD%D0%B0_%D0%BE%D0%B4%D1%80%D0%B5%D0%B4%D0%BD%D0%B8%D1%86%D0%B0)',\n",
       " 'https://sh.wikipedia.org/wiki/Python',\n",
       " 'https://fi.wikipedia.org/wiki/Python',\n",
       " 'https://sv.wikipedia.org/wiki/Pyton',\n",
       " 'https://th.wikipedia.org/wiki/%E0%B9%84%E0%B8%9E%E0%B8%97%E0%B8%AD%E0%B8%99',\n",
       " 'https://tr.wikipedia.org/wiki/Python_(anlam_ayr%C4%B1m%C4%B1)',\n",
       " 'https://uk.wikipedia.org/wiki/%D0%9F%D1%96%D1%84%D0%BE%D0%BD',\n",
       " 'https://ur.wikipedia.org/wiki/%D9%BE%D8%A7%D8%A6%DB%8C%D8%AA%DA%BE%D9%88%D9%86',\n",
       " 'https://vi.wikipedia.org/wiki/Python',\n",
       " 'https://zh.wikipedia.org/wiki/Python_(%E6%B6%88%E6%AD%A7%E4%B9%89)',\n",
       " 'https://www.wikidata.org/wiki/Special:EntityPage/Q747452#sitelinks-wikipedia',\n",
       " 'https://en.wikipedia.org/wiki/Python',\n",
       " 'https://en.wikipedia.org/wiki/Talk:Python',\n",
       " 'https://en.wikipedia.org/wiki/Python',\n",
       " 'https://en.wikipedia.org/w/index.php?title=Python&action=edit&editintro=Template:Disambig_editintro',\n",
       " 'https://en.wikipedia.org/w/index.php?title=Python&action=history',\n",
       " 'https://en.wikipedia.org/wiki/Python',\n",
       " 'https://en.wikipedia.org/w/index.php?title=Python&action=edit',\n",
       " 'https://en.wikipedia.org/w/index.php?title=Python&action=history',\n",
       " 'https://en.wikipedia.org/wiki/Special:WhatLinksHere/Python',\n",
       " 'https://en.wikipedia.org/wiki/Special:RecentChangesLinked/Python',\n",
       " 'https://en.wikipedia.org/wiki/Wikipedia:File_Upload_Wizard',\n",
       " 'https://en.wikipedia.org/wiki/Special:SpecialPages',\n",
       " 'https://en.wikipedia.org/w/index.php?title=Python&oldid=1182751793',\n",
       " 'https://en.wikipedia.org/w/index.php?title=Python&action=info',\n",
       " 'https://en.wikipedia.org/w/index.php?title=Special:CiteThisPage&page=Python&id=1182751793&wpFormIdentifier=titleform',\n",
       " 'https://en.wikipedia.org/w/index.php?title=Special:UrlShortener&url=https%3A%2F%2Fen.wikipedia.org%2Fwiki%2FPython',\n",
       " 'https://www.wikidata.org/wiki/Special:EntityPage/Q747452',\n",
       " 'https://www.wikidata.org/wiki/Special:EntityPage/Q747452#sitelinks-wikipedia',\n",
       " 'https://en.wikipedia.org/w/index.php?title=Special:DownloadAsPdf&page=Python&action=show-download-screen',\n",
       " 'https://en.wikipedia.org/w/index.php?title=Python&printable=yes',\n",
       " 'https://commons.wikimedia.org/wiki/Category:Python',\n",
       " 'https://en.wiktionary.org/wiki/Python',\n",
       " 'https://en.wiktionary.org/wiki/python',\n",
       " 'https://en.wikipedia.org/w/index.php?title=Python&action=edit&section=1&editintro=Template:Disambig_editintro',\n",
       " 'https://en.wikipedia.org/wiki/Pythonidae',\n",
       " 'https://en.wikipedia.org/wiki/Python_(genus)',\n",
       " 'https://en.wikipedia.org/wiki/Python_(mythology)',\n",
       " 'https://en.wikipedia.org/w/index.php?title=Python&action=edit&section=2&editintro=Template:Disambig_editintro',\n",
       " 'https://en.wikipedia.org/wiki/Python_(programming_language)',\n",
       " 'https://en.wikipedia.org/wiki/CMU_Common_Lisp',\n",
       " 'https://en.wikipedia.org/wiki/PERQ#PERQ_3',\n",
       " 'https://en.wikipedia.org/w/index.php?title=Python&action=edit&section=3&editintro=Template:Disambig_editintro',\n",
       " 'https://en.wikipedia.org/wiki/Python_of_Aenus',\n",
       " 'https://en.wikipedia.org/wiki/Python_(painter)',\n",
       " 'https://en.wikipedia.org/wiki/Python_of_Byzantium',\n",
       " 'https://en.wikipedia.org/wiki/Python_of_Catana',\n",
       " 'https://en.wikipedia.org/wiki/Python_Anghelo',\n",
       " 'https://en.wikipedia.org/w/index.php?title=Python&action=edit&section=4&editintro=Template:Disambig_editintro',\n",
       " 'https://en.wikipedia.org/wiki/Python_(Efteling)',\n",
       " 'https://en.wikipedia.org/wiki/Python_(Busch_Gardens_Tampa_Bay)',\n",
       " 'https://en.wikipedia.org/wiki/Python_(Coney_Island,_Cincinnati,_Ohio)',\n",
       " 'https://en.wikipedia.org/w/index.php?title=Python&action=edit&section=5&editintro=Template:Disambig_editintro',\n",
       " 'https://en.wikipedia.org/wiki/Python_(automobile_maker)',\n",
       " 'https://en.wikipedia.org/wiki/Python_(Ford_prototype)',\n",
       " 'https://en.wikipedia.org/w/index.php?title=Python&action=edit&section=6&editintro=Template:Disambig_editintro',\n",
       " 'https://en.wikipedia.org/wiki/Python_(missile)',\n",
       " 'https://en.wikipedia.org/wiki/Python_(nuclear_primary)',\n",
       " 'https://en.wikipedia.org/wiki/Colt_Python',\n",
       " 'https://en.wikipedia.org/w/index.php?title=Python&action=edit&section=7&editintro=Template:Disambig_editintro',\n",
       " 'https://en.wikipedia.org/wiki/Python_(codename)',\n",
       " 'https://en.wikipedia.org/wiki/Python_(film)',\n",
       " 'https://en.wikipedia.org/wiki/Monty_Python',\n",
       " 'https://en.wikipedia.org/wiki/Python_(Monty)_Pictures',\n",
       " 'https://en.wikipedia.org/wiki/Timon_of_Phlius',\n",
       " 'https://en.wikipedia.org/w/index.php?title=Python&action=edit&section=8&editintro=Template:Disambig_editintro',\n",
       " 'https://en.wikipedia.org/wiki/Pyton',\n",
       " 'https://en.wikipedia.org/wiki/Pithon',\n",
       " 'https://en.wikipedia.org/wiki/File:Disambig_gray.svg',\n",
       " 'https://en.wikipedia.org/wiki/Help:Disambiguation',\n",
       " 'https://en.wikipedia.org/w/index.php?title=Special:WhatLinksHere/Python&namespace=0',\n",
       " 'https://en.wikipedia.org/w/index.php?title=Python&oldid=1182751793',\n",
       " 'https://en.wikipedia.org/wiki/Help:Category',\n",
       " 'https://en.wikipedia.org/wiki/Category:Disambiguation_pages',\n",
       " 'https://en.wikipedia.org/wiki/Category:Human_name_disambiguation_pages',\n",
       " 'https://en.wikipedia.org/wiki/Category:Disambiguation_pages_with_given-name-holder_lists',\n",
       " 'https://en.wikipedia.org/wiki/Category:Short_description_is_different_from_Wikidata',\n",
       " 'https://en.wikipedia.org/wiki/Category:All_article_disambiguation_pages',\n",
       " 'https://en.wikipedia.org/wiki/Category:All_disambiguation_pages',\n",
       " 'https://en.wikipedia.org/wiki/Category:Animal_common_name_disambiguation_pages',\n",
       " 'https://en.wikipedia.org/wiki/Wikipedia:Text_of_the_Creative_Commons_Attribution-ShareAlike_4.0_International_License',\n",
       " 'https://en.wikipedia.org/wiki/Wikipedia:Text_of_the_Creative_Commons_Attribution-ShareAlike_4.0_International_License',\n",
       " 'https://foundation.wikimedia.org/wiki/Terms_of_Use',\n",
       " 'https://foundation.wikimedia.org/wiki/Privacy_policy',\n",
       " 'https://www.wikimediafoundation.org/',\n",
       " 'https://foundation.wikimedia.org/wiki/Special:MyLanguage/Policy:Privacy_policy',\n",
       " 'https://en.wikipedia.org/wiki/Wikipedia:About',\n",
       " 'https://en.wikipedia.org/wiki/Wikipedia:General_disclaimer',\n",
       " 'https://en.wikipedia.org/wiki/Wikipedia:Contact_us',\n",
       " 'https://foundation.wikimedia.org/wiki/Special:MyLanguage/Universal_Code_of_Conduct',\n",
       " 'https://developer.wikimedia.org/',\n",
       " 'https://stats.wikimedia.org/#/en.wikipedia.org',\n",
       " 'https://foundation.wikimedia.org/wiki/Special:MyLanguage/Policy:Cookie_statement',\n",
       " 'https://en.m.wikipedia.org/w/index.php?title=Python&mobileaction=toggle_view_mobile',\n",
       " 'https://en.wikipedia.org/wiki/Python#',\n",
       " 'https://wikimediafoundation.org/',\n",
       " 'https://www.mediawiki.org/',\n",
       " 'https://en.wikipedia.org/wiki/Python?action=edit']"
      ]
     },
     "execution_count": 53,
     "metadata": {},
     "output_type": "execute_result"
    }
   ],
   "source": [
    "links_list"
   ]
  },
  {
   "cell_type": "markdown",
   "metadata": {},
   "source": [
    "#### Number of Titles that have changed in the United States Code since its last release point "
   ]
  },
  {
   "cell_type": "code",
   "execution_count": 54,
   "metadata": {},
   "outputs": [],
   "source": [
    "# This is the url you will scrape in this exercise\n",
    "url = 'http://uscode.house.gov/download/download.shtml'"
   ]
  },
  {
   "cell_type": "code",
   "execution_count": 55,
   "metadata": {},
   "outputs": [],
   "source": [
    "#your code\n",
    "driver.get(url)"
   ]
  },
  {
   "cell_type": "code",
   "execution_count": 58,
   "metadata": {},
   "outputs": [
    {
     "data": {
      "text/plain": [
       "'Title 20 - Education'"
      ]
     },
     "execution_count": 58,
     "metadata": {},
     "output_type": "execute_result"
    }
   ],
   "source": [
    "driver.find_elements(By.CLASS_NAME, 'usctitlechanged')[0].text"
   ]
  },
  {
   "cell_type": "code",
   "execution_count": 59,
   "metadata": {},
   "outputs": [],
   "source": [
    "changed_titles=driver.find_elements(By.CLASS_NAME, 'usctitlechanged')\n",
    "list_of_changed_titles=[e.text for e in changed_titles]"
   ]
  },
  {
   "cell_type": "code",
   "execution_count": 60,
   "metadata": {},
   "outputs": [
    {
     "data": {
      "text/plain": [
       "['Title 20 - Education', \"Title 38 - Veterans' Benefits ٭\"]"
      ]
     },
     "execution_count": 60,
     "metadata": {},
     "output_type": "execute_result"
    }
   ],
   "source": [
    "list_of_changed_titles"
   ]
  },
  {
   "cell_type": "markdown",
   "metadata": {},
   "source": [
    "#### A Python list with the top ten FBI's Most Wanted names "
   ]
  },
  {
   "cell_type": "code",
   "execution_count": 61,
   "metadata": {},
   "outputs": [],
   "source": [
    "# This is the url you will scrape in this exercise\n",
    "url = 'https://www.fbi.gov/wanted/topten'"
   ]
  },
  {
   "cell_type": "code",
   "execution_count": 62,
   "metadata": {},
   "outputs": [],
   "source": [
    "#your code \n",
    "driver.get(url)"
   ]
  },
  {
   "cell_type": "code",
   "execution_count": 64,
   "metadata": {},
   "outputs": [],
   "source": [
    "most_wanted=[e.text for e in driver.find_elements(By.CSS_SELECTOR, 'h3.title')]"
   ]
  },
  {
   "cell_type": "code",
   "execution_count": 65,
   "metadata": {},
   "outputs": [
    {
     "data": {
      "text/plain": [
       "['ARNOLDO JIMENEZ',\n",
       " 'OMAR ALEXANDER CARDENAS',\n",
       " 'YULAN ADONAY ARCHAGA CARIAS',\n",
       " 'BHADRESHKUMAR CHETANBHAI PATEL',\n",
       " 'DONALD EUGENE FIELDS II',\n",
       " 'RUJA IGNATOVA',\n",
       " 'WILVER VILLEGAS-PALOMINO',\n",
       " 'ALEJANDRO ROSALES CASTILLO',\n",
       " 'ALEXIS FLORES',\n",
       " 'JOSE RODOLFO VILLARREAL-HERNANDEZ']"
      ]
     },
     "execution_count": 65,
     "metadata": {},
     "output_type": "execute_result"
    }
   ],
   "source": [
    "most_wanted"
   ]
  },
  {
   "cell_type": "markdown",
   "metadata": {},
   "source": [
    "####  20 latest earthquakes info (date, time, latitude, longitude and region name) by the EMSC as a pandas dataframe"
   ]
  },
  {
   "cell_type": "code",
   "execution_count": 66,
   "metadata": {},
   "outputs": [],
   "source": [
    "# This is the url you will scrape in this exercise\n",
    "url = 'https://www.emsc-csem.org/Earthquake/'"
   ]
  },
  {
   "cell_type": "code",
   "execution_count": 82,
   "metadata": {},
   "outputs": [],
   "source": [
    "#your code\n",
    "driver.get(url)"
   ]
  },
  {
   "cell_type": "code",
   "execution_count": 150,
   "metadata": {},
   "outputs": [
    {
     "data": {
      "text/plain": [
       "['2023-11-01 12:49:31',\n",
       " '9 min ago',\n",
       " '-12.400 -77.020 54 3.7 NEAR COAST OF CENTRAL PERU']"
      ]
     },
     "execution_count": 150,
     "metadata": {},
     "output_type": "execute_result"
    }
   ],
   "source": [
    "cuerpo = driver.find_elements(By.TAG_NAME, 'tbody')[2]\n",
    "\n",
    "filas = cuerpo.find_elements(By.TAG_NAME, 'tr')\n",
    "filas[0].text.split('\\n')"
   ]
  },
  {
   "cell_type": "code",
   "execution_count": 135,
   "metadata": {},
   "outputs": [],
   "source": [
    "fila_limpia=filas[0].text.split('\\n')\n",
    "datetime=fila_limpia[0]\n",
    "lat=fila_limpia[-1].split()[0]\n",
    "lon=fila_limpia[-1].split()[1]\n",
    "depth=fila_limpia[-1].split()[2]\n",
    "mag=fila_limpia[-1].split()[3]\n",
    "region=' '.join(fila_limpia[-1].split()[4:])"
   ]
  },
  {
   "cell_type": "code",
   "execution_count": 152,
   "metadata": {},
   "outputs": [
    {
     "data": {
      "text/plain": [
       "[['2023-11-01 12:49:31',\n",
       "  '-12.400',\n",
       "  '-77.020',\n",
       "  '54',\n",
       "  '3.7',\n",
       "  'NEAR COAST OF CENTRAL PERU'],\n",
       " ['2023-11-01 12:48:50',\n",
       "  '-5.090',\n",
       "  '104.130',\n",
       "  '10',\n",
       "  '2.5',\n",
       "  'SOUTHERN SUMATRA, INDONESIA'],\n",
       " ['2023-11-01 12:31:58', '38.890', '23.310', '10', '2.0', 'GREECE'],\n",
       " ['2023-11-01 12:25:13', '50.306', '12.367', '10', '2.4', 'GERMANY'],\n",
       " ['2023-11-01 12:01:45', '37.470', '22.230', '194', '2.6', 'SOUTHERN GREECE'],\n",
       " ['2023-11-01 12:00:41',\n",
       "  '11.850',\n",
       "  '-86.440',\n",
       "  '79',\n",
       "  '2.7',\n",
       "  'NEAR COAST OF NICARAGUA'],\n",
       " ['2023-11-01 11:54:44', '37.466', '37.274', '2', '2.4', 'CENTRAL TURKEY'],\n",
       " ['2023-11-01 11:52:50', '38.775', '40.173', '13', '2.4', 'EASTERN TURKEY'],\n",
       " ['2023-11-01 11:40:41', '-8.970', '109.890', '10', '3.3', 'JAVA, INDONESIA'],\n",
       " ['2023-11-01 11:35:37', '61.345', '-146.956', '32', '2.5', 'SOUTHERN ALASKA'],\n",
       " ['2023-11-01 11:35:22', '-8.920', '109.990', '10', '3.2', 'JAVA, INDONESIA'],\n",
       " ['2023-11-01 11:27:11', '-8.030', '107.370', '23', '3.2', 'JAVA, INDONESIA'],\n",
       " ['2023-11-01 11:24:04', '37.059', '-1.885', '0', '1.5', 'SPAIN'],\n",
       " ['2023-11-01 11:15:01', '36.659', '-116.257', '14', '2.7', 'NEVADA'],\n",
       " ['2023-11-01 11:10:53',\n",
       "  '38.816',\n",
       "  '-122.818',\n",
       "  '2',\n",
       "  '2.0',\n",
       "  'NORTHERN CALIFORNIA'],\n",
       " ['2023-11-01 10:47:26', '47.353', '6.911', '4', '1.9', 'FRANCE'],\n",
       " ['2023-11-01 10:46:13', '35.858', '-98.049', '5', '2.3', 'OKLAHOMA'],\n",
       " ['2023-11-01 10:40:15',\n",
       "  '1.549',\n",
       "  '129.288',\n",
       "  '10',\n",
       "  '4.9',\n",
       "  'HALMAHERA, INDONESIA'],\n",
       " ['2023-11-01 10:39:47', '32.110', '59.730', '10', '4.7', 'EASTERN IRAN'],\n",
       " ['2023-11-01 10:24:52',\n",
       "  '-35.756',\n",
       "  '179.285',\n",
       "  '239',\n",
       "  '3.3',\n",
       "  'OFF E. COAST OF N. ISLAND, N.Z.'],\n",
       " ['2023-11-01 10:18:14', '46.305', '13.600', '6', '1.3', 'SLOVENIA'],\n",
       " ['2023-11-01 10:15:43', '-15.517', '-177.518', '410', '5.1', 'FIJI REGION'],\n",
       " ['2023-11-01 10:06:48', '35.364', '33.441', '24', '1.5', 'CYPRUS REGION'],\n",
       " ['2023-11-01 09:57:14',\n",
       "  '17.932',\n",
       "  '-66.287',\n",
       "  '13',\n",
       "  '2.7',\n",
       "  'PUERTO RICO REGION'],\n",
       " ['2023-11-01 09:40:30',\n",
       "  '-31.770',\n",
       "  '-69.090',\n",
       "  '90',\n",
       "  '3.1',\n",
       "  'SAN JUAN, ARGENTINA'],\n",
       " ['2023-11-01 09:40:23',\n",
       "  '-2.110',\n",
       "  '120.920',\n",
       "  '10',\n",
       "  '3.3',\n",
       "  'SULAWESI, INDONESIA'],\n",
       " ['2023-11-01 09:35:57', '34.830', '24.820', '20', '2.8', 'CRETE, GREECE'],\n",
       " ['2023-11-01 09:20:50', '39.406', '28.446', '5', '2.1', 'WESTERN TURKEY'],\n",
       " ['2023-11-01 09:15:41', '25.620', '-100.720', '5', '3.9', 'COAHUILA, MEXICO'],\n",
       " ['2023-11-01 09:10:44',\n",
       "  '27.667',\n",
       "  '-18.256',\n",
       "  '41',\n",
       "  '2.1',\n",
       "  'CANARY ISLANDS, SPAIN REGION'],\n",
       " ['2023-11-01 08:55:19', '37.816', '36.459', '7', '2.7', 'CENTRAL TURKEY'],\n",
       " ['2023-11-01 08:44:01', '39.086', '33.067', '5', '2.2', 'CENTRAL TURKEY'],\n",
       " ['2023-11-01 08:42:42',\n",
       "  '-41.665',\n",
       "  '174.231',\n",
       "  '12',\n",
       "  '3.1',\n",
       "  'COOK STRAIT, NEW ZEALAND'],\n",
       " ['2023-11-01 08:41:30',\n",
       "  '38.700',\n",
       "  '142.000',\n",
       "  '60',\n",
       "  '3.7',\n",
       "  'NEAR EAST COAST OF HONSHU, JAPAN'],\n",
       " ['2023-11-01 08:38:36',\n",
       "  '-31.632',\n",
       "  '178.218',\n",
       "  '33',\n",
       "  '4.4',\n",
       "  'KERMADEC ISLANDS REGION'],\n",
       " ['2023-11-01 08:22:47', '38.900', '22.610', '77', '2.0', 'GREECE'],\n",
       " ['2023-11-01 08:18:25',\n",
       "  '-28.770',\n",
       "  '-71.500',\n",
       "  '44',\n",
       "  '3.5',\n",
       "  'OFFSHORE ATACAMA, CHILE'],\n",
       " ['2023-11-01 08:16:57',\n",
       "  '19.241',\n",
       "  '-155.398',\n",
       "  '31',\n",
       "  '2.1',\n",
       "  'ISLAND OF HAWAII, HAWAII'],\n",
       " ['2023-11-01 08:08:47', '44.361', '148.997', '44', '4.9', 'KURIL ISLANDS'],\n",
       " ['2023-11-01 08:05:18', '42.855', '13.224', '5', '2.1', 'CENTRAL ITALY'],\n",
       " ['2023-11-01 07:57:07',\n",
       "  '36.104',\n",
       "  '28.808',\n",
       "  '8',\n",
       "  '2.6',\n",
       "  'DODECANESE IS.-TURKEY BORDER REG'],\n",
       " ['2023-11-01 07:57:07', '39.680', '24.350', '10', '3.0', 'AEGEAN SEA'],\n",
       " ['2023-11-01 07:53:43', '36.113', '35.785', '7', '3.1', 'CENTRAL TURKEY'],\n",
       " ['2023-11-01 07:44:34', '38.200', '22.690', '5', '2.1', 'GREECE'],\n",
       " ['2023-11-01 07:43:45', '61.543', '-147.799', '10', '3.1', 'SOUTHERN ALASKA'],\n",
       " ['2023-11-01 07:38:27',\n",
       "  '53.760',\n",
       "  '159.460',\n",
       "  '140',\n",
       "  '3.5',\n",
       "  'NEAR EAST COAST OF KAMCHATKA'],\n",
       " ['2023-11-01 07:31:35',\n",
       "  '0.820',\n",
       "  '122.550',\n",
       "  '20',\n",
       "  '2.5',\n",
       "  'MINAHASA, SULAWESI, INDONESIA'],\n",
       " ['2023-11-01 07:11:43',\n",
       "  '-32.850',\n",
       "  '-178.910',\n",
       "  '44',\n",
       "  '4.8',\n",
       "  'SOUTH OF KERMADEC ISLANDS'],\n",
       " ['2023-11-01 07:10:03', '35.619', '1.363', '0', '3.0', 'NORTHERN ALGERIA'],\n",
       " ['2023-11-01 07:04:41', '38.892', '15.674', '180', '2.4', 'SICILY, ITALY'],\n",
       " ['2023-11-01 07:02:42', '38.840', '23.510', '5', '2.1', 'GREECE'],\n",
       " ['2023-11-01 06:53:03', '38.047', '36.861', '5', '2.2', 'CENTRAL TURKEY'],\n",
       " ['2023-11-01 06:52:57',\n",
       "  '33.040',\n",
       "  '76.070',\n",
       "  '5',\n",
       "  '3.2',\n",
       "  'KASHMIR-INDIA BORDER REGION'],\n",
       " ['2023-11-01 06:51:44',\n",
       "  '-10.917',\n",
       "  '166.569',\n",
       "  '70',\n",
       "  '5.2',\n",
       "  'SANTA CRUZ ISLANDS'],\n",
       " ['2023-11-01 06:30:33',\n",
       "  '12.620',\n",
       "  '-88.180',\n",
       "  '28',\n",
       "  '2.7',\n",
       "  'OFFSHORE EL SALVADOR'],\n",
       " ['2023-11-01 06:29:38',\n",
       "  '-10.950',\n",
       "  '166.629',\n",
       "  '74',\n",
       "  '4.6',\n",
       "  'SANTA CRUZ ISLANDS'],\n",
       " ['2023-11-01 06:03:35', '46.389', '12.731', '8', '1.0', 'NORTHERN ITALY'],\n",
       " ['2023-11-01 05:51:13', '-31.330', '139.230', '16', '2.9', 'SOUTH AUSTRALIA'],\n",
       " ['2023-11-01 05:46:17',\n",
       "  '4.820',\n",
       "  '96.130',\n",
       "  '10',\n",
       "  '3.7',\n",
       "  'NORTHERN SUMATRA, INDONESIA'],\n",
       " ['2023-11-01 05:39:11',\n",
       "  '8.980',\n",
       "  '126.500',\n",
       "  '26',\n",
       "  '3.1',\n",
       "  'MINDANAO, PHILIPPINES'],\n",
       " ['2023-11-01 05:30:13', '46.337', '7.470', '3', '0.9', 'SWITZERLAND'],\n",
       " ['2023-11-01 05:24:13', '38.260', '20.430', '5', '2.0', 'GREECE'],\n",
       " ['2023-11-01 05:15:45',\n",
       "  '29.382',\n",
       "  '-17.857',\n",
       "  '0',\n",
       "  '2.0',\n",
       "  'CANARY ISLANDS, SPAIN REGION'],\n",
       " ['2023-11-01 05:06:39',\n",
       "  '35.534',\n",
       "  '-3.598',\n",
       "  '10',\n",
       "  '1.7',\n",
       "  'STRAIT OF GIBRALTAR'],\n",
       " ['2023-11-01 04:39:27', '-1.730', '133.390', '10', '4.3', 'PAPUA, INDONESIA'],\n",
       " ['2023-11-01 04:30:50',\n",
       "  '36.021',\n",
       "  '-120.580',\n",
       "  '4',\n",
       "  '2.5',\n",
       "  'CENTRAL CALIFORNIA'],\n",
       " ['2023-11-01 04:05:56',\n",
       "  '-21.600',\n",
       "  '-68.430',\n",
       "  '135',\n",
       "  '3.0',\n",
       "  'ANTOFAGASTA, CHILE'],\n",
       " ['2023-11-01 04:02:10', '43.203', '13.271', '24', '2.4', 'CENTRAL ITALY'],\n",
       " ['2023-11-01 03:52:59',\n",
       "  '-28.940',\n",
       "  '-71.510',\n",
       "  '52',\n",
       "  '3.2',\n",
       "  'OFFSHORE ATACAMA, CHILE'],\n",
       " ['2023-11-01 03:11:50',\n",
       "  '25.985',\n",
       "  '84.240',\n",
       "  '10',\n",
       "  '4.1',\n",
       "  'UTTAR PRADESH-BIHAR REG., INDIA'],\n",
       " ['2023-11-01 03:03:08', '38.010', '23.410', '79', '2.4', 'GREECE'],\n",
       " ['2023-11-01 03:00:24',\n",
       "  '19.150',\n",
       "  '121.310',\n",
       "  '15',\n",
       "  '3.0',\n",
       "  'BABUYAN ISL REGION, PHILIPPINES'],\n",
       " ['2023-11-01 02:58:58', '35.780', '25.530', '10', '2.3', 'CRETE, GREECE'],\n",
       " ['2023-11-01 02:57:10',\n",
       "  '19.407',\n",
       "  '-155.292',\n",
       "  '7',\n",
       "  '2.0',\n",
       "  'ISLAND OF HAWAII, HAWAII'],\n",
       " ['2023-11-01 02:56:29',\n",
       "  '18.950',\n",
       "  '-70.370',\n",
       "  '10',\n",
       "  '3.6',\n",
       "  'DOMINICAN REPUBLIC'],\n",
       " ['2023-11-01 02:39:00', '44.232', '-115.103', '5', '3.5', 'SOUTHERN IDAHO'],\n",
       " ['2023-11-01 02:30:06',\n",
       "  '-33.284',\n",
       "  '179.699',\n",
       "  '300',\n",
       "  '3.8',\n",
       "  'SOUTH OF KERMADEC ISLANDS'],\n",
       " ['2023-11-01 02:16:56',\n",
       "  '-42.620',\n",
       "  '-74.190',\n",
       "  '30',\n",
       "  '3.0',\n",
       "  'OFFSHORE LOS LAGOS, CHILE'],\n",
       " ['2023-11-01 01:56:40',\n",
       "  '-31.390',\n",
       "  '-71.720',\n",
       "  '34',\n",
       "  '2.9',\n",
       "  'OFFSHORE COQUIMBO, CHILE'],\n",
       " ['2023-11-01 01:24:39',\n",
       "  '37.972',\n",
       "  '-122.046',\n",
       "  '17',\n",
       "  '2.7',\n",
       "  'SAN FRANCISCO BAY AREA, CALIF.'],\n",
       " ['2023-11-01 01:22:32', '38.082', '38.395', '5', '2.1', 'EASTERN TURKEY'],\n",
       " ['2023-11-01 01:11:01', '38.349', '-118.898', '13', '2.0', 'NEVADA'],\n",
       " ['2023-11-01 01:03:38', '38.170', '22.710', '5', '2.1', 'GREECE'],\n",
       " ['2023-11-01 01:02:35', '35.750', '25.500', '0', '2.4', 'CRETE, GREECE'],\n",
       " ['2023-11-01 00:57:31',\n",
       "  '35.347',\n",
       "  '-3.598',\n",
       "  '25',\n",
       "  '1.9',\n",
       "  'STRAIT OF GIBRALTAR'],\n",
       " ['1 2023-11-01 00:56:41', '63.862', '-22.519', '5', '3.3', 'ICELAND REGION'],\n",
       " ['2023-11-01 00:55:45',\n",
       "  '-23.860',\n",
       "  '-67.160',\n",
       "  '245',\n",
       "  '3.6',\n",
       "  'SALTA, ARGENTINA'],\n",
       " ['2023-11-01 00:54:37',\n",
       "  '-35.910',\n",
       "  '-74.390',\n",
       "  '20',\n",
       "  '2.5',\n",
       "  'OFF COAST OF MAULE, CHILE'],\n",
       " ['2023-11-01 00:54:07', '63.859', '-22.537', '5', '2.9', 'ICELAND REGION'],\n",
       " ['2023-11-01 00:51:43', '44.611', '6.989', '0', '2.1', 'FRANCE'],\n",
       " ['2023-11-01 00:41:44', '63.857', '-22.529', '5', '2.8', 'ICELAND REGION'],\n",
       " ['2023-11-01 00:29:25', '44.454', '9.911', '9', '2.5', 'NORTHERN ITALY'],\n",
       " ['2023-11-01 00:15:39',\n",
       "  '11.270',\n",
       "  '-86.860',\n",
       "  '35',\n",
       "  '3.5',\n",
       "  'NEAR COAST OF NICARAGUA'],\n",
       " ['2023-10-31 23:51:30',\n",
       "  '-22.439',\n",
       "  '-66.243',\n",
       "  '270',\n",
       "  '3.2',\n",
       "  'JUJUY, ARGENTINA'],\n",
       " ['2023-10-31 23:43:52',\n",
       "  '38.618',\n",
       "  '-29.303',\n",
       "  '5',\n",
       "  '2.3',\n",
       "  'AZORES ISLANDS, PORTUGAL'],\n",
       " ['2023-10-31 23:36:13', '38.848', '37.434', '5', '2.1', 'CENTRAL TURKEY'],\n",
       " ['2023-10-31 23:34:47',\n",
       "  '60.956',\n",
       "  '-150.693',\n",
       "  '50',\n",
       "  '3.0',\n",
       "  'KENAI PENINSULA, ALASKA'],\n",
       " ['2023-10-31 23:33:44',\n",
       "  '-23.710',\n",
       "  '-71.450',\n",
       "  '17',\n",
       "  '2.5',\n",
       "  'OFF COAST OF ANTOFAGASTA, CHILE'],\n",
       " ['2023-10-31 23:33:39',\n",
       "  '60.948',\n",
       "  '-150.742',\n",
       "  '48',\n",
       "  '2.7',\n",
       "  'KENAI PENINSULA, ALASKA'],\n",
       " ['2023-10-31 23:29:23',\n",
       "  '36.435',\n",
       "  '-5.533',\n",
       "  '48',\n",
       "  '2.0',\n",
       "  'STRAIT OF GIBRALTAR'],\n",
       " ['2023-10-31 23:14:44', '37.813', '16.450', '45', '2.3', 'IONIAN SEA'],\n",
       " ['4 2023-10-31 23:12:34',\n",
       "  '60.959',\n",
       "  '-150.716',\n",
       "  '48',\n",
       "  '4.0',\n",
       "  'KENAI PENINSULA, ALASKA'],\n",
       " ['2023-10-31 23:00:30',\n",
       "  '-29.190',\n",
       "  '-68.400',\n",
       "  '86',\n",
       "  '3.3',\n",
       "  'LA RIOJA, ARGENTINA'],\n",
       " ['2023-10-31 22:51:10',\n",
       "  '15.140',\n",
       "  '-93.150',\n",
       "  '66',\n",
       "  '3.7',\n",
       "  'OFFSHORE CHIAPAS, MEXICO'],\n",
       " ['2023-10-31 22:49:20',\n",
       "  '27.560',\n",
       "  '-111.570',\n",
       "  '9',\n",
       "  '3.3',\n",
       "  'GULF OF CALIFORNIA']]"
      ]
     },
     "execution_count": 152,
     "metadata": {},
     "output_type": "execute_result"
    }
   ],
   "source": [
    "fila_lista = []\n",
    "\n",
    "for f in filas:\n",
    "    f_limpio = f.text.split('\\n')\n",
    "    \n",
    "    datetime = f_limpio[0]\n",
    "    lat, lon, depth, mag, region = f_limpio[-1].split()[0], f_limpio[-1].split()[1], f_limpio[-1].split()[2], f_limpio[-1].split()[3], ' '.join(f_limpio[-1].split()[4:])\n",
    "    \n",
    "    temp = [datetime, lat, lon, depth, mag, region]\n",
    "    fila_lista.append(temp)\n",
    "    \n",
    "fila_lista\n"
   ]
  },
  {
   "cell_type": "code",
   "execution_count": 158,
   "metadata": {},
   "outputs": [
    {
     "data": {
      "text/plain": [
       "['Citizen',\n",
       " 'response',\n",
       " 'Date & Time',\n",
       " 'UTC',\n",
       " 'Lat.',\n",
       " 'degrees',\n",
       " 'Lon.',\n",
       " 'degrees',\n",
       " 'Depth',\n",
       " 'km',\n",
       " 'Mag.[+] Region']"
      ]
     },
     "execution_count": 158,
     "metadata": {},
     "output_type": "execute_result"
    }
   ],
   "source": [
    "messy_columns= driver.find_elements(By.TAG_NAME, 'thead')[0].text.split('\\n')\n",
    "messy_columns"
   ]
  },
  {
   "cell_type": "code",
   "execution_count": 179,
   "metadata": {},
   "outputs": [
    {
     "data": {
      "text/plain": [
       "['Date & Time', 'Lat.', 'Lon.', 'Depth', 'Mag.', 'Region']"
      ]
     },
     "execution_count": 179,
     "metadata": {},
     "output_type": "execute_result"
    }
   ],
   "source": [
    "mag_region= messy_columns[-1].split()\n",
    "mag_region[0]=mag_region[0].replace('+','').replace('[','').replace(']','')\n",
    "mag_region\n",
    "columns=[messy_columns[2], messy_columns[4], messy_columns[6], messy_columns[8], mag_region[0], mag_region[1]]\n",
    "columns  "
   ]
  },
  {
   "cell_type": "code",
   "execution_count": 182,
   "metadata": {},
   "outputs": [],
   "source": [
    "seismos=pd.DataFrame(fila_lista, columns=columns)"
   ]
  },
  {
   "cell_type": "code",
   "execution_count": 184,
   "metadata": {},
   "outputs": [],
   "source": [
    "top_20= seismos.iloc[:20]"
   ]
  },
  {
   "cell_type": "code",
   "execution_count": 185,
   "metadata": {},
   "outputs": [
    {
     "data": {
      "text/html": [
       "<div>\n",
       "<style scoped>\n",
       "    .dataframe tbody tr th:only-of-type {\n",
       "        vertical-align: middle;\n",
       "    }\n",
       "\n",
       "    .dataframe tbody tr th {\n",
       "        vertical-align: top;\n",
       "    }\n",
       "\n",
       "    .dataframe thead th {\n",
       "        text-align: right;\n",
       "    }\n",
       "</style>\n",
       "<table border=\"1\" class=\"dataframe\">\n",
       "  <thead>\n",
       "    <tr style=\"text-align: right;\">\n",
       "      <th></th>\n",
       "      <th>Date &amp; Time</th>\n",
       "      <th>Lat.</th>\n",
       "      <th>Lon.</th>\n",
       "      <th>Depth</th>\n",
       "      <th>Mag.</th>\n",
       "      <th>Region</th>\n",
       "    </tr>\n",
       "  </thead>\n",
       "  <tbody>\n",
       "    <tr>\n",
       "      <th>0</th>\n",
       "      <td>2023-11-01 12:49:31</td>\n",
       "      <td>-12.400</td>\n",
       "      <td>-77.020</td>\n",
       "      <td>54</td>\n",
       "      <td>3.7</td>\n",
       "      <td>NEAR COAST OF CENTRAL PERU</td>\n",
       "    </tr>\n",
       "    <tr>\n",
       "      <th>1</th>\n",
       "      <td>2023-11-01 12:48:50</td>\n",
       "      <td>-5.090</td>\n",
       "      <td>104.130</td>\n",
       "      <td>10</td>\n",
       "      <td>2.5</td>\n",
       "      <td>SOUTHERN SUMATRA, INDONESIA</td>\n",
       "    </tr>\n",
       "    <tr>\n",
       "      <th>2</th>\n",
       "      <td>2023-11-01 12:31:58</td>\n",
       "      <td>38.890</td>\n",
       "      <td>23.310</td>\n",
       "      <td>10</td>\n",
       "      <td>2.0</td>\n",
       "      <td>GREECE</td>\n",
       "    </tr>\n",
       "    <tr>\n",
       "      <th>3</th>\n",
       "      <td>2023-11-01 12:25:13</td>\n",
       "      <td>50.306</td>\n",
       "      <td>12.367</td>\n",
       "      <td>10</td>\n",
       "      <td>2.4</td>\n",
       "      <td>GERMANY</td>\n",
       "    </tr>\n",
       "    <tr>\n",
       "      <th>4</th>\n",
       "      <td>2023-11-01 12:01:45</td>\n",
       "      <td>37.470</td>\n",
       "      <td>22.230</td>\n",
       "      <td>194</td>\n",
       "      <td>2.6</td>\n",
       "      <td>SOUTHERN GREECE</td>\n",
       "    </tr>\n",
       "    <tr>\n",
       "      <th>5</th>\n",
       "      <td>2023-11-01 12:00:41</td>\n",
       "      <td>11.850</td>\n",
       "      <td>-86.440</td>\n",
       "      <td>79</td>\n",
       "      <td>2.7</td>\n",
       "      <td>NEAR COAST OF NICARAGUA</td>\n",
       "    </tr>\n",
       "    <tr>\n",
       "      <th>6</th>\n",
       "      <td>2023-11-01 11:54:44</td>\n",
       "      <td>37.466</td>\n",
       "      <td>37.274</td>\n",
       "      <td>2</td>\n",
       "      <td>2.4</td>\n",
       "      <td>CENTRAL TURKEY</td>\n",
       "    </tr>\n",
       "    <tr>\n",
       "      <th>7</th>\n",
       "      <td>2023-11-01 11:52:50</td>\n",
       "      <td>38.775</td>\n",
       "      <td>40.173</td>\n",
       "      <td>13</td>\n",
       "      <td>2.4</td>\n",
       "      <td>EASTERN TURKEY</td>\n",
       "    </tr>\n",
       "    <tr>\n",
       "      <th>8</th>\n",
       "      <td>2023-11-01 11:40:41</td>\n",
       "      <td>-8.970</td>\n",
       "      <td>109.890</td>\n",
       "      <td>10</td>\n",
       "      <td>3.3</td>\n",
       "      <td>JAVA, INDONESIA</td>\n",
       "    </tr>\n",
       "    <tr>\n",
       "      <th>9</th>\n",
       "      <td>2023-11-01 11:35:37</td>\n",
       "      <td>61.345</td>\n",
       "      <td>-146.956</td>\n",
       "      <td>32</td>\n",
       "      <td>2.5</td>\n",
       "      <td>SOUTHERN ALASKA</td>\n",
       "    </tr>\n",
       "    <tr>\n",
       "      <th>10</th>\n",
       "      <td>2023-11-01 11:35:22</td>\n",
       "      <td>-8.920</td>\n",
       "      <td>109.990</td>\n",
       "      <td>10</td>\n",
       "      <td>3.2</td>\n",
       "      <td>JAVA, INDONESIA</td>\n",
       "    </tr>\n",
       "    <tr>\n",
       "      <th>11</th>\n",
       "      <td>2023-11-01 11:27:11</td>\n",
       "      <td>-8.030</td>\n",
       "      <td>107.370</td>\n",
       "      <td>23</td>\n",
       "      <td>3.2</td>\n",
       "      <td>JAVA, INDONESIA</td>\n",
       "    </tr>\n",
       "    <tr>\n",
       "      <th>12</th>\n",
       "      <td>2023-11-01 11:24:04</td>\n",
       "      <td>37.059</td>\n",
       "      <td>-1.885</td>\n",
       "      <td>0</td>\n",
       "      <td>1.5</td>\n",
       "      <td>SPAIN</td>\n",
       "    </tr>\n",
       "    <tr>\n",
       "      <th>13</th>\n",
       "      <td>2023-11-01 11:15:01</td>\n",
       "      <td>36.659</td>\n",
       "      <td>-116.257</td>\n",
       "      <td>14</td>\n",
       "      <td>2.7</td>\n",
       "      <td>NEVADA</td>\n",
       "    </tr>\n",
       "    <tr>\n",
       "      <th>14</th>\n",
       "      <td>2023-11-01 11:10:53</td>\n",
       "      <td>38.816</td>\n",
       "      <td>-122.818</td>\n",
       "      <td>2</td>\n",
       "      <td>2.0</td>\n",
       "      <td>NORTHERN CALIFORNIA</td>\n",
       "    </tr>\n",
       "    <tr>\n",
       "      <th>15</th>\n",
       "      <td>2023-11-01 10:47:26</td>\n",
       "      <td>47.353</td>\n",
       "      <td>6.911</td>\n",
       "      <td>4</td>\n",
       "      <td>1.9</td>\n",
       "      <td>FRANCE</td>\n",
       "    </tr>\n",
       "    <tr>\n",
       "      <th>16</th>\n",
       "      <td>2023-11-01 10:46:13</td>\n",
       "      <td>35.858</td>\n",
       "      <td>-98.049</td>\n",
       "      <td>5</td>\n",
       "      <td>2.3</td>\n",
       "      <td>OKLAHOMA</td>\n",
       "    </tr>\n",
       "    <tr>\n",
       "      <th>17</th>\n",
       "      <td>2023-11-01 10:40:15</td>\n",
       "      <td>1.549</td>\n",
       "      <td>129.288</td>\n",
       "      <td>10</td>\n",
       "      <td>4.9</td>\n",
       "      <td>HALMAHERA, INDONESIA</td>\n",
       "    </tr>\n",
       "    <tr>\n",
       "      <th>18</th>\n",
       "      <td>2023-11-01 10:39:47</td>\n",
       "      <td>32.110</td>\n",
       "      <td>59.730</td>\n",
       "      <td>10</td>\n",
       "      <td>4.7</td>\n",
       "      <td>EASTERN IRAN</td>\n",
       "    </tr>\n",
       "    <tr>\n",
       "      <th>19</th>\n",
       "      <td>2023-11-01 10:24:52</td>\n",
       "      <td>-35.756</td>\n",
       "      <td>179.285</td>\n",
       "      <td>239</td>\n",
       "      <td>3.3</td>\n",
       "      <td>OFF E. COAST OF N. ISLAND, N.Z.</td>\n",
       "    </tr>\n",
       "  </tbody>\n",
       "</table>\n",
       "</div>"
      ],
      "text/plain": [
       "            Date & Time     Lat.      Lon. Depth Mag.  \\\n",
       "0   2023-11-01 12:49:31  -12.400   -77.020    54  3.7   \n",
       "1   2023-11-01 12:48:50   -5.090   104.130    10  2.5   \n",
       "2   2023-11-01 12:31:58   38.890    23.310    10  2.0   \n",
       "3   2023-11-01 12:25:13   50.306    12.367    10  2.4   \n",
       "4   2023-11-01 12:01:45   37.470    22.230   194  2.6   \n",
       "5   2023-11-01 12:00:41   11.850   -86.440    79  2.7   \n",
       "6   2023-11-01 11:54:44   37.466    37.274     2  2.4   \n",
       "7   2023-11-01 11:52:50   38.775    40.173    13  2.4   \n",
       "8   2023-11-01 11:40:41   -8.970   109.890    10  3.3   \n",
       "9   2023-11-01 11:35:37   61.345  -146.956    32  2.5   \n",
       "10  2023-11-01 11:35:22   -8.920   109.990    10  3.2   \n",
       "11  2023-11-01 11:27:11   -8.030   107.370    23  3.2   \n",
       "12  2023-11-01 11:24:04   37.059    -1.885     0  1.5   \n",
       "13  2023-11-01 11:15:01   36.659  -116.257    14  2.7   \n",
       "14  2023-11-01 11:10:53   38.816  -122.818     2  2.0   \n",
       "15  2023-11-01 10:47:26   47.353     6.911     4  1.9   \n",
       "16  2023-11-01 10:46:13   35.858   -98.049     5  2.3   \n",
       "17  2023-11-01 10:40:15    1.549   129.288    10  4.9   \n",
       "18  2023-11-01 10:39:47   32.110    59.730    10  4.7   \n",
       "19  2023-11-01 10:24:52  -35.756   179.285   239  3.3   \n",
       "\n",
       "                             Region  \n",
       "0        NEAR COAST OF CENTRAL PERU  \n",
       "1       SOUTHERN SUMATRA, INDONESIA  \n",
       "2                            GREECE  \n",
       "3                           GERMANY  \n",
       "4                   SOUTHERN GREECE  \n",
       "5           NEAR COAST OF NICARAGUA  \n",
       "6                    CENTRAL TURKEY  \n",
       "7                    EASTERN TURKEY  \n",
       "8                   JAVA, INDONESIA  \n",
       "9                   SOUTHERN ALASKA  \n",
       "10                  JAVA, INDONESIA  \n",
       "11                  JAVA, INDONESIA  \n",
       "12                            SPAIN  \n",
       "13                           NEVADA  \n",
       "14              NORTHERN CALIFORNIA  \n",
       "15                           FRANCE  \n",
       "16                         OKLAHOMA  \n",
       "17             HALMAHERA, INDONESIA  \n",
       "18                     EASTERN IRAN  \n",
       "19  OFF E. COAST OF N. ISLAND, N.Z.  "
      ]
     },
     "execution_count": 185,
     "metadata": {},
     "output_type": "execute_result"
    }
   ],
   "source": [
    "top_20"
   ]
  },
  {
   "cell_type": "markdown",
   "metadata": {},
   "source": [
    "#### Count number of tweets by a given Twitter account."
   ]
  },
  {
   "cell_type": "markdown",
   "metadata": {},
   "source": [
    "You will need to include a ***try/except block*** for account names not found. \n",
    "<br>***Hint:*** the program should count the number of tweets for any provided account"
   ]
  },
  {
   "cell_type": "code",
   "execution_count": 21,
   "metadata": {},
   "outputs": [],
   "source": [
    "# This is the url you will scrape in this exercise \n",
    "# You will need to add the account credentials to this url\n",
    "url = 'https://twitter.com/elonmusk'"
   ]
  },
  {
   "cell_type": "code",
   "execution_count": 22,
   "metadata": {},
   "outputs": [],
   "source": [
    "#your code\n",
    "driver.get(url)"
   ]
  },
  {
   "cell_type": "code",
   "execution_count": 24,
   "metadata": {},
   "outputs": [],
   "source": [
    "selector=driver.find_elements(By.CSS_SELECTOR, 'div > div > div.css-1dbjc4n.r-18u37iz.r-13qz1uu.r-417010 > main > div > div > div > div > div > div.css-1dbjc4n.r-aqfbo4.r-gtdqiz.r-1gn8etr.r-1g40b8q > div:nth-child(1) > div > div > div > div > div > div.css-1dbjc4n.r-16y2uox.r-1wbh5a2.r-1pi2tsx.r-1777fci > div > div')[0]"
   ]
  },
  {
   "cell_type": "code",
   "execution_count": 25,
   "metadata": {},
   "outputs": [
    {
     "data": {
      "text/plain": [
       "'32.7K posts'"
      ]
     },
     "execution_count": 25,
     "metadata": {},
     "output_type": "execute_result"
    }
   ],
   "source": [
    "selector.text"
   ]
  },
  {
   "cell_type": "markdown",
   "metadata": {},
   "source": [
    "#### Number of followers of a given twitter account"
   ]
  },
  {
   "cell_type": "markdown",
   "metadata": {},
   "source": [
    "You will need to include a ***try/except block*** in case account/s name not found. \n",
    "<br>***Hint:*** the program should count the followers for any provided account"
   ]
  },
  {
   "cell_type": "code",
   "execution_count": 10,
   "metadata": {},
   "outputs": [],
   "source": [
    "# This is the url you will scrape in this exercise \n",
    "# You will need to add the account credentials to this url\n",
    "url = 'https://twitter.com/elonmusk'"
   ]
  },
  {
   "cell_type": "code",
   "execution_count": 11,
   "metadata": {},
   "outputs": [],
   "source": [
    "#your code\n",
    "driver.get(url)"
   ]
  },
  {
   "cell_type": "code",
   "execution_count": 23,
   "metadata": {},
   "outputs": [],
   "source": [
    "selector=driver.find_elements(By.CSS_SELECTOR, 'div > div > div.css-1dbjc4n.r-18u37iz.r-13qz1uu.r-417010 > main > div > div > div > div > div > div:nth-child(3) > div > div > div > div > div.css-1dbjc4n.r-13awgt0.r-18u37iz.r-1w6e6rj > div:nth-child(2) > a')"
   ]
  },
  {
   "cell_type": "code",
   "execution_count": 26,
   "metadata": {},
   "outputs": [
    {
     "data": {
      "text/plain": [
       "'161.7M Followers'"
      ]
     },
     "execution_count": 26,
     "metadata": {},
     "output_type": "execute_result"
    }
   ],
   "source": [
    "selector[0].text"
   ]
  },
  {
   "cell_type": "code",
   "execution_count": 33,
   "metadata": {},
   "outputs": [
    {
     "name": "stdout",
     "output_type": "stream",
     "text": [
      "Enter your Twitter username: elonmusk\n",
      "161.8M Followers\n"
     ]
    }
   ],
   "source": [
    "driver = webdriver.Chrome()\n",
    "try :\n",
    "    twitter_username =input(\"Enter your Twitter username: \")\n",
    "    url_username=f'https://twitter.com/{twitter_username}'\n",
    "    driver.get(url_username)\n",
    "    time.sleep(3)\n",
    "    selector=driver.find_elements(By.CSS_SELECTOR, 'div > div > div.css-1dbjc4n.r-18u37iz.r-13qz1uu.r-417010 > main > div > div > div > div > div > div:nth-child(3) > div > div > div > div > div.css-1dbjc4n.r-13awgt0.r-18u37iz.r-1w6e6rj > div:nth-child(2) > a')    \n",
    "    followers=selector[0].text\n",
    "    print(followers)\n",
    "    driver.quit()\n",
    "except:\n",
    "    print('Can not locate profile with username given')"
   ]
  },
  {
   "cell_type": "markdown",
   "metadata": {},
   "source": [
    "#### List all language names and number of related articles in the order they appear in wikipedia.org"
   ]
  },
  {
   "cell_type": "code",
   "execution_count": 28,
   "metadata": {},
   "outputs": [],
   "source": [
    "# This is the url you will scrape in this exercise\n",
    "url = 'https://www.wikipedia.org/'"
   ]
  },
  {
   "cell_type": "code",
   "execution_count": 29,
   "metadata": {},
   "outputs": [],
   "source": [
    "#your code\n",
    "driver.get(url)"
   ]
  },
  {
   "cell_type": "code",
   "execution_count": 34,
   "metadata": {},
   "outputs": [],
   "source": [
    "languages= driver.find_elements(By.CLASS_NAME, 'central-featured-lang')"
   ]
  },
  {
   "cell_type": "code",
   "execution_count": 37,
   "metadata": {},
   "outputs": [
    {
     "data": {
      "text/plain": [
       "['English', '6 715 000+ articles']"
      ]
     },
     "execution_count": 37,
     "metadata": {},
     "output_type": "execute_result"
    }
   ],
   "source": [
    "languages[0].text.split('\\n')"
   ]
  },
  {
   "cell_type": "code",
   "execution_count": 42,
   "metadata": {},
   "outputs": [
    {
     "data": {
      "text/plain": [
       "{'English': '6 715 000+ articles',\n",
       " '日本語': '1 387 000+ 記事',\n",
       " 'Español': '1 892 000+ artículos',\n",
       " 'Русский': '1 938 000+ статей',\n",
       " 'Deutsch': '2 836 000+ Artikel',\n",
       " 'Français': '2 553 000+ articles',\n",
       " 'Italiano': '1 826 000+ voci',\n",
       " '中文': '1 377 000+ 条目 / 條目',\n",
       " 'Português': '1 109 000+ artigos',\n",
       " 'العربية': '1 217 000+ مقالة'}"
      ]
     },
     "execution_count": 42,
     "metadata": {},
     "output_type": "execute_result"
    }
   ],
   "source": [
    "dict={}\n",
    "for l in languages:\n",
    "    lan=l.text.split('\\n')\n",
    "    language=lan[0]\n",
    "    number=lan[1]\n",
    "    dict[language]=number\n",
    "\n",
    "dict"
   ]
  },
  {
   "cell_type": "markdown",
   "metadata": {},
   "source": [
    "#### A list with the different kind of datasets available in data.gov.uk "
   ]
  },
  {
   "cell_type": "code",
   "execution_count": 43,
   "metadata": {},
   "outputs": [],
   "source": [
    "# This is the url you will scrape in this exercise\n",
    "url = 'https://data.gov.uk/'"
   ]
  },
  {
   "cell_type": "code",
   "execution_count": 44,
   "metadata": {},
   "outputs": [],
   "source": [
    "#your code \n",
    "driver.get(url)"
   ]
  },
  {
   "cell_type": "code",
   "execution_count": 57,
   "metadata": {},
   "outputs": [
    {
     "data": {
      "text/plain": [
       "[<selenium.webdriver.remote.webelement.WebElement (session=\"0c924f615c06507db21f5f357949805b\", element=\"32986C25B9DFC863C526BB4F756DE326_element_119\")>,\n",
       " <selenium.webdriver.remote.webelement.WebElement (session=\"0c924f615c06507db21f5f357949805b\", element=\"32986C25B9DFC863C526BB4F756DE326_element_120\")>,\n",
       " <selenium.webdriver.remote.webelement.WebElement (session=\"0c924f615c06507db21f5f357949805b\", element=\"32986C25B9DFC863C526BB4F756DE326_element_121\")>,\n",
       " <selenium.webdriver.remote.webelement.WebElement (session=\"0c924f615c06507db21f5f357949805b\", element=\"32986C25B9DFC863C526BB4F756DE326_element_122\")>,\n",
       " <selenium.webdriver.remote.webelement.WebElement (session=\"0c924f615c06507db21f5f357949805b\", element=\"32986C25B9DFC863C526BB4F756DE326_element_88\")>,\n",
       " <selenium.webdriver.remote.webelement.WebElement (session=\"0c924f615c06507db21f5f357949805b\", element=\"32986C25B9DFC863C526BB4F756DE326_element_123\")>,\n",
       " <selenium.webdriver.remote.webelement.WebElement (session=\"0c924f615c06507db21f5f357949805b\", element=\"32986C25B9DFC863C526BB4F756DE326_element_124\")>,\n",
       " <selenium.webdriver.remote.webelement.WebElement (session=\"0c924f615c06507db21f5f357949805b\", element=\"32986C25B9DFC863C526BB4F756DE326_element_125\")>,\n",
       " <selenium.webdriver.remote.webelement.WebElement (session=\"0c924f615c06507db21f5f357949805b\", element=\"32986C25B9DFC863C526BB4F756DE326_element_126\")>,\n",
       " <selenium.webdriver.remote.webelement.WebElement (session=\"0c924f615c06507db21f5f357949805b\", element=\"32986C25B9DFC863C526BB4F756DE326_element_86\")>,\n",
       " <selenium.webdriver.remote.webelement.WebElement (session=\"0c924f615c06507db21f5f357949805b\", element=\"32986C25B9DFC863C526BB4F756DE326_element_74\")>,\n",
       " <selenium.webdriver.remote.webelement.WebElement (session=\"0c924f615c06507db21f5f357949805b\", element=\"32986C25B9DFC863C526BB4F756DE326_element_127\")>,\n",
       " <selenium.webdriver.remote.webelement.WebElement (session=\"0c924f615c06507db21f5f357949805b\", element=\"32986C25B9DFC863C526BB4F756DE326_element_128\")>,\n",
       " <selenium.webdriver.remote.webelement.WebElement (session=\"0c924f615c06507db21f5f357949805b\", element=\"32986C25B9DFC863C526BB4F756DE326_element_129\")>,\n",
       " <selenium.webdriver.remote.webelement.WebElement (session=\"0c924f615c06507db21f5f357949805b\", element=\"32986C25B9DFC863C526BB4F756DE326_element_93\")>,\n",
       " <selenium.webdriver.remote.webelement.WebElement (session=\"0c924f615c06507db21f5f357949805b\", element=\"32986C25B9DFC863C526BB4F756DE326_element_98\")>,\n",
       " <selenium.webdriver.remote.webelement.WebElement (session=\"0c924f615c06507db21f5f357949805b\", element=\"32986C25B9DFC863C526BB4F756DE326_element_130\")>,\n",
       " <selenium.webdriver.remote.webelement.WebElement (session=\"0c924f615c06507db21f5f357949805b\", element=\"32986C25B9DFC863C526BB4F756DE326_element_105\")>]"
      ]
     },
     "execution_count": 57,
     "metadata": {},
     "output_type": "execute_result"
    }
   ],
   "source": [
    "driver.find_elements(By.CLASS_NAME, 'govuk-link')"
   ]
  },
  {
   "cell_type": "code",
   "execution_count": 58,
   "metadata": {},
   "outputs": [],
   "source": [
    "datasets= driver.find_elements(By.CLASS_NAME, 'govuk-link')[4:]"
   ]
  },
  {
   "cell_type": "code",
   "execution_count": 59,
   "metadata": {},
   "outputs": [
    {
     "data": {
      "text/plain": [
       "14"
      ]
     },
     "execution_count": 59,
     "metadata": {},
     "output_type": "execute_result"
    }
   ],
   "source": [
    "len(datasets)"
   ]
  },
  {
   "cell_type": "code",
   "execution_count": 61,
   "metadata": {},
   "outputs": [
    {
     "data": {
      "text/plain": [
       "['Business and economy',\n",
       " 'Crime and justice',\n",
       " 'Defence',\n",
       " 'Education',\n",
       " 'Environment',\n",
       " 'Government',\n",
       " 'Government spending',\n",
       " 'Health',\n",
       " 'Mapping',\n",
       " 'Society',\n",
       " 'Towns and cities',\n",
       " 'Transport',\n",
       " 'Digital service performance',\n",
       " 'Government reference data']"
      ]
     },
     "execution_count": 61,
     "metadata": {},
     "output_type": "execute_result"
    }
   ],
   "source": [
    "data_list=[d.text for d in datasets]\n",
    "data_list"
   ]
  },
  {
   "cell_type": "markdown",
   "metadata": {},
   "source": [
    "#### Top 10 languages by number of native speakers stored in a Pandas Dataframe"
   ]
  },
  {
   "cell_type": "code",
   "execution_count": 64,
   "metadata": {},
   "outputs": [],
   "source": [
    "# This is the url you will scrape in this exercise\n",
    "url = 'https://en.wikipedia.org/wiki/List_of_languages_by_number_of_native_speakers'"
   ]
  },
  {
   "cell_type": "code",
   "execution_count": 65,
   "metadata": {},
   "outputs": [],
   "source": [
    "#your code\n",
    "driver.get(url)"
   ]
  },
  {
   "cell_type": "code",
   "execution_count": 77,
   "metadata": {},
   "outputs": [],
   "source": [
    "languages=driver.find_elements(By.CLASS_NAME, 'mw-redirect')[3:14]"
   ]
  },
  {
   "cell_type": "code",
   "execution_count": 86,
   "metadata": {},
   "outputs": [
    {
     "data": {
      "text/html": [
       "<div>\n",
       "<style scoped>\n",
       "    .dataframe tbody tr th:only-of-type {\n",
       "        vertical-align: middle;\n",
       "    }\n",
       "\n",
       "    .dataframe tbody tr th {\n",
       "        vertical-align: top;\n",
       "    }\n",
       "\n",
       "    .dataframe thead th {\n",
       "        text-align: right;\n",
       "    }\n",
       "</style>\n",
       "<table border=\"1\" class=\"dataframe\">\n",
       "  <thead>\n",
       "    <tr style=\"text-align: right;\">\n",
       "      <th></th>\n",
       "      <th>0</th>\n",
       "    </tr>\n",
       "  </thead>\n",
       "  <tbody>\n",
       "    <tr>\n",
       "      <th>0</th>\n",
       "      <td>Mandarin Chinese</td>\n",
       "    </tr>\n",
       "    <tr>\n",
       "      <th>1</th>\n",
       "      <td>Spanish</td>\n",
       "    </tr>\n",
       "    <tr>\n",
       "      <th>2</th>\n",
       "      <td>English</td>\n",
       "    </tr>\n",
       "    <tr>\n",
       "      <th>3</th>\n",
       "      <td>Hindi</td>\n",
       "    </tr>\n",
       "    <tr>\n",
       "      <th>4</th>\n",
       "      <td>Portuguese</td>\n",
       "    </tr>\n",
       "    <tr>\n",
       "      <th>5</th>\n",
       "      <td>Bengali</td>\n",
       "    </tr>\n",
       "    <tr>\n",
       "      <th>6</th>\n",
       "      <td>Russian</td>\n",
       "    </tr>\n",
       "    <tr>\n",
       "      <th>7</th>\n",
       "      <td>Japanese</td>\n",
       "    </tr>\n",
       "    <tr>\n",
       "      <th>8</th>\n",
       "      <td>Yue Chinese</td>\n",
       "    </tr>\n",
       "    <tr>\n",
       "      <th>9</th>\n",
       "      <td>Vietnamese</td>\n",
       "    </tr>\n",
       "    <tr>\n",
       "      <th>10</th>\n",
       "      <td>Turkish</td>\n",
       "    </tr>\n",
       "  </tbody>\n",
       "</table>\n",
       "</div>"
      ],
      "text/plain": [
       "                   0\n",
       "0   Mandarin Chinese\n",
       "1            Spanish\n",
       "2            English\n",
       "3              Hindi\n",
       "4         Portuguese\n",
       "5            Bengali\n",
       "6            Russian\n",
       "7           Japanese\n",
       "8        Yue Chinese\n",
       "9         Vietnamese\n",
       "10           Turkish"
      ]
     },
     "execution_count": 86,
     "metadata": {},
     "output_type": "execute_result"
    }
   ],
   "source": [
    "langu_list=[l.text for l in languages]\n",
    "pd.DataFrame(langu_list)"
   ]
  },
  {
   "cell_type": "markdown",
   "metadata": {},
   "source": [
    "### BONUS QUESTIONS"
   ]
  },
  {
   "cell_type": "markdown",
   "metadata": {},
   "source": [
    "#### Scrape a certain number of tweets of a given Twitter account."
   ]
  },
  {
   "cell_type": "code",
   "execution_count": null,
   "metadata": {},
   "outputs": [],
   "source": [
    "# This is the url you will scrape in this exercise \n",
    "# You will need to add the account credentials to this url\n",
    "url = 'https://twitter.com/'"
   ]
  },
  {
   "cell_type": "code",
   "execution_count": null,
   "metadata": {},
   "outputs": [],
   "source": [
    "# your code"
   ]
  },
  {
   "cell_type": "markdown",
   "metadata": {},
   "source": [
    "#### IMDB's Top 250 data (movie name, Initial release, director name and stars) as a pandas dataframe"
   ]
  },
  {
   "cell_type": "code",
   "execution_count": null,
   "metadata": {},
   "outputs": [],
   "source": [
    "# This is the url you will scrape in this exercise \n",
    "url = 'https://www.imdb.com/chart/top'"
   ]
  },
  {
   "cell_type": "code",
   "execution_count": null,
   "metadata": {},
   "outputs": [],
   "source": [
    "# your code"
   ]
  },
  {
   "cell_type": "markdown",
   "metadata": {},
   "source": [
    "#### Movie name, year and a brief summary of the top 10 random movies (IMDB) as a pandas dataframe."
   ]
  },
  {
   "cell_type": "code",
   "execution_count": null,
   "metadata": {},
   "outputs": [],
   "source": [
    "#This is the url you will scrape in this exercise\n",
    "url = 'http://www.imdb.com/chart/top'"
   ]
  },
  {
   "cell_type": "code",
   "execution_count": null,
   "metadata": {},
   "outputs": [],
   "source": [
    "#your code"
   ]
  },
  {
   "cell_type": "markdown",
   "metadata": {},
   "source": [
    "#### Find the live weather report (temperature, wind speed, description and weather) of a given city."
   ]
  },
  {
   "cell_type": "code",
   "execution_count": null,
   "metadata": {},
   "outputs": [],
   "source": [
    "#https://openweathermap.org/current\n",
    "city = city=input('Enter the city:')\n",
    "url = 'http://api.openweathermap.org/data/2.5/weather?'+'q='+city+'&APPID=b35975e18dc93725acb092f7272cc6b8&units=metric'"
   ]
  },
  {
   "cell_type": "code",
   "execution_count": null,
   "metadata": {},
   "outputs": [],
   "source": [
    "# your code"
   ]
  },
  {
   "cell_type": "markdown",
   "metadata": {},
   "source": [
    "#### Book name,price and stock availability as a pandas dataframe."
   ]
  },
  {
   "cell_type": "code",
   "execution_count": null,
   "metadata": {},
   "outputs": [],
   "source": [
    "# This is the url you will scrape in this exercise. \n",
    "# It is a fictional bookstore created to be scraped. \n",
    "url = 'http://books.toscrape.com/'"
   ]
  },
  {
   "cell_type": "code",
   "execution_count": null,
   "metadata": {},
   "outputs": [],
   "source": [
    "#your code"
   ]
  }
 ],
 "metadata": {
  "kernelspec": {
   "display_name": "Python 3 (ipykernel)",
   "language": "python",
   "name": "python3"
  },
  "language_info": {
   "codemirror_mode": {
    "name": "ipython",
    "version": 3
   },
   "file_extension": ".py",
   "mimetype": "text/x-python",
   "name": "python",
   "nbconvert_exporter": "python",
   "pygments_lexer": "ipython3",
   "version": "3.11.4"
  }
 },
 "nbformat": 4,
 "nbformat_minor": 2
}
